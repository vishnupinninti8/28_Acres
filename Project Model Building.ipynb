{
 "cells": [
  {
   "attachments": {},
   "cell_type": "markdown",
   "id": "15b1b900",
   "metadata": {},
   "source": [
    "\n",
    "## Real Estate (99acres.com) Model Building"
   ]
  },
  {
   "attachments": {},
   "cell_type": "markdown",
   "id": "a77b0036",
   "metadata": {},
   "source": [
    "## 1. Import sklearn Libraries"
   ]
  },
  {
   "cell_type": "code",
   "execution_count": 6,
   "id": "e385cfdc",
   "metadata": {},
   "outputs": [],
   "source": [
    "\n",
    "import numpy as np\n",
    "import pandas as pd\n",
    "import seaborn as sns\n",
    "import matplotlib.pyplot as plt\n",
    "import matplotlib.pylab as pylab\n",
    "from sklearn.preprocessing import LabelEncoder\n",
    "from sklearn.model_selection import train_test_split\n",
    "\n",
    "import warnings\n",
    "warnings.filterwarnings('ignore')"
   ]
  },
  {
   "attachments": {},
   "cell_type": "markdown",
   "id": "0c922116",
   "metadata": {},
   "source": [
    "## 2. Import Dataset"
   ]
  },
  {
   "cell_type": "code",
   "execution_count": 7,
   "id": "5bd6e3d3",
   "metadata": {},
   "outputs": [
    {
     "data": {
      "text/html": [
       "<div>\n",
       "<style scoped>\n",
       "    .dataframe tbody tr th:only-of-type {\n",
       "        vertical-align: middle;\n",
       "    }\n",
       "\n",
       "    .dataframe tbody tr th {\n",
       "        vertical-align: top;\n",
       "    }\n",
       "\n",
       "    .dataframe thead th {\n",
       "        text-align: right;\n",
       "    }\n",
       "</style>\n",
       "<table border=\"1\" class=\"dataframe\">\n",
       "  <thead>\n",
       "    <tr style=\"text-align: right;\">\n",
       "      <th></th>\n",
       "      <th>Property_Name</th>\n",
       "      <th>Location</th>\n",
       "      <th>Region</th>\n",
       "      <th>Property_Age</th>\n",
       "      <th>Availability</th>\n",
       "      <th>Area_Tpye</th>\n",
       "      <th>Area_SqFt</th>\n",
       "      <th>Rate_SqFt</th>\n",
       "      <th>Floor_No</th>\n",
       "      <th>Bedroom</th>\n",
       "      <th>Bathroom</th>\n",
       "      <th>Price_Lakh</th>\n",
       "    </tr>\n",
       "  </thead>\n",
       "  <tbody>\n",
       "    <tr>\n",
       "      <th>0</th>\n",
       "      <td>Om Sai Heights 2</td>\n",
       "      <td>Chennai</td>\n",
       "      <td>Chennai</td>\n",
       "      <td>0 to 1 Year</td>\n",
       "      <td>Ready To Move</td>\n",
       "      <td>Super Built Up Area</td>\n",
       "      <td>600.0</td>\n",
       "      <td>5333</td>\n",
       "      <td>4</td>\n",
       "      <td>1</td>\n",
       "      <td>2</td>\n",
       "      <td>32.0</td>\n",
       "    </tr>\n",
       "    <tr>\n",
       "      <th>1</th>\n",
       "      <td>Shree Manibhadra Heights</td>\n",
       "      <td>Chennai</td>\n",
       "      <td>Chennai</td>\n",
       "      <td>0 to 1 Year</td>\n",
       "      <td>Ready To Move</td>\n",
       "      <td>Carpet Area</td>\n",
       "      <td>400.0</td>\n",
       "      <td>6125</td>\n",
       "      <td>8</td>\n",
       "      <td>1</td>\n",
       "      <td>2</td>\n",
       "      <td>24.5</td>\n",
       "    </tr>\n",
       "    <tr>\n",
       "      <th>2</th>\n",
       "      <td>Peninsula Celestia Spaces</td>\n",
       "      <td>Chennai</td>\n",
       "      <td>Chennai</td>\n",
       "      <td>0 to 1 Year</td>\n",
       "      <td>Ready To Move</td>\n",
       "      <td>Carpet Area</td>\n",
       "      <td>1468.0</td>\n",
       "      <td>38487</td>\n",
       "      <td>10</td>\n",
       "      <td>3</td>\n",
       "      <td>3</td>\n",
       "      <td>565.0</td>\n",
       "    </tr>\n",
       "    <tr>\n",
       "      <th>3</th>\n",
       "      <td>Unnamed Property</td>\n",
       "      <td>Chennai</td>\n",
       "      <td>Chennai</td>\n",
       "      <td>0 to 1 Year</td>\n",
       "      <td>Ready To Move</td>\n",
       "      <td>Carpet Area</td>\n",
       "      <td>692.0</td>\n",
       "      <td>30202</td>\n",
       "      <td>10</td>\n",
       "      <td>2</td>\n",
       "      <td>2</td>\n",
       "      <td>209.0</td>\n",
       "    </tr>\n",
       "    <tr>\n",
       "      <th>4</th>\n",
       "      <td>Unnamed Property</td>\n",
       "      <td>Chennai</td>\n",
       "      <td>Chennai</td>\n",
       "      <td>0 to 1 Year</td>\n",
       "      <td>Ready To Move</td>\n",
       "      <td>Carpet Area</td>\n",
       "      <td>671.0</td>\n",
       "      <td>29657</td>\n",
       "      <td>10</td>\n",
       "      <td>2</td>\n",
       "      <td>2</td>\n",
       "      <td>199.0</td>\n",
       "    </tr>\n",
       "    <tr>\n",
       "      <th>...</th>\n",
       "      <td>...</td>\n",
       "      <td>...</td>\n",
       "      <td>...</td>\n",
       "      <td>...</td>\n",
       "      <td>...</td>\n",
       "      <td>...</td>\n",
       "      <td>...</td>\n",
       "      <td>...</td>\n",
       "      <td>...</td>\n",
       "      <td>...</td>\n",
       "      <td>...</td>\n",
       "      <td>...</td>\n",
       "    </tr>\n",
       "    <tr>\n",
       "      <th>94</th>\n",
       "      <td>Agarwal Lifestyle</td>\n",
       "      <td>Chennai</td>\n",
       "      <td>Chennai</td>\n",
       "      <td>1 to 5 Year</td>\n",
       "      <td>Ready To Move</td>\n",
       "      <td>Super Built Up Area</td>\n",
       "      <td>955.0</td>\n",
       "      <td>5350</td>\n",
       "      <td>7</td>\n",
       "      <td>2</td>\n",
       "      <td>2</td>\n",
       "      <td>51.1</td>\n",
       "    </tr>\n",
       "    <tr>\n",
       "      <th>95</th>\n",
       "      <td>Laxmi Avenue D Global City</td>\n",
       "      <td>Chennai</td>\n",
       "      <td>Chennai</td>\n",
       "      <td>1 to 5 Year</td>\n",
       "      <td>Ready To Move</td>\n",
       "      <td>Super Built Up Area</td>\n",
       "      <td>825.0</td>\n",
       "      <td>4127</td>\n",
       "      <td>3</td>\n",
       "      <td>2</td>\n",
       "      <td>2</td>\n",
       "      <td>34.0</td>\n",
       "    </tr>\n",
       "    <tr>\n",
       "      <th>96</th>\n",
       "      <td>Sumit Greendale</td>\n",
       "      <td>Chennai</td>\n",
       "      <td>Chennai</td>\n",
       "      <td>1 to 5 Year</td>\n",
       "      <td>Ready To Move</td>\n",
       "      <td>Super Built Up Area</td>\n",
       "      <td>630.0</td>\n",
       "      <td>4857</td>\n",
       "      <td>2</td>\n",
       "      <td>1</td>\n",
       "      <td>2</td>\n",
       "      <td>30.6</td>\n",
       "    </tr>\n",
       "    <tr>\n",
       "      <th>97</th>\n",
       "      <td>Mathuresh Krupa</td>\n",
       "      <td>Chennai</td>\n",
       "      <td>Chennai</td>\n",
       "      <td>1 to 5 Year</td>\n",
       "      <td>Ready To Move</td>\n",
       "      <td>Super Built Up Area</td>\n",
       "      <td>615.0</td>\n",
       "      <td>4351</td>\n",
       "      <td>5</td>\n",
       "      <td>1</td>\n",
       "      <td>1</td>\n",
       "      <td>26.8</td>\n",
       "    </tr>\n",
       "    <tr>\n",
       "      <th>98</th>\n",
       "      <td>Laxmi Avenue D Global City</td>\n",
       "      <td>Chennai</td>\n",
       "      <td>Chennai</td>\n",
       "      <td>1 to 5 Year</td>\n",
       "      <td>Ready To Move</td>\n",
       "      <td>Super Built Up Area</td>\n",
       "      <td>825.0</td>\n",
       "      <td>4130</td>\n",
       "      <td>2</td>\n",
       "      <td>2</td>\n",
       "      <td>2</td>\n",
       "      <td>34.1</td>\n",
       "    </tr>\n",
       "  </tbody>\n",
       "</table>\n",
       "<p>99 rows × 12 columns</p>\n",
       "</div>"
      ],
      "text/plain": [
       "                  Property_Name Location   Region Property_Age   Availability  \\\n",
       "0             Om Sai Heights 2   Chennai  Chennai  0 to 1 Year  Ready To Move   \n",
       "1     Shree Manibhadra Heights   Chennai  Chennai  0 to 1 Year  Ready To Move   \n",
       "2    Peninsula Celestia Spaces   Chennai  Chennai  0 to 1 Year  Ready To Move   \n",
       "3              Unnamed Property  Chennai  Chennai  0 to 1 Year  Ready To Move   \n",
       "4              Unnamed Property  Chennai  Chennai  0 to 1 Year  Ready To Move   \n",
       "..                          ...      ...      ...          ...            ...   \n",
       "94           Agarwal Lifestyle   Chennai  Chennai  1 to 5 Year  Ready To Move   \n",
       "95  Laxmi Avenue D Global City   Chennai  Chennai  1 to 5 Year  Ready To Move   \n",
       "96             Sumit Greendale   Chennai  Chennai  1 to 5 Year  Ready To Move   \n",
       "97             Mathuresh Krupa   Chennai  Chennai  1 to 5 Year  Ready To Move   \n",
       "98  Laxmi Avenue D Global City   Chennai  Chennai  1 to 5 Year  Ready To Move   \n",
       "\n",
       "              Area_Tpye  Area_SqFt  Rate_SqFt  Floor_No  Bedroom  Bathroom  \\\n",
       "0   Super Built Up Area      600.0       5333         4        1         2   \n",
       "1           Carpet Area      400.0       6125         8        1         2   \n",
       "2           Carpet Area     1468.0      38487        10        3         3   \n",
       "3           Carpet Area      692.0      30202        10        2         2   \n",
       "4           Carpet Area      671.0      29657        10        2         2   \n",
       "..                  ...        ...        ...       ...      ...       ...   \n",
       "94  Super Built Up Area      955.0       5350         7        2         2   \n",
       "95  Super Built Up Area      825.0       4127         3        2         2   \n",
       "96  Super Built Up Area      630.0       4857         2        1         2   \n",
       "97  Super Built Up Area      615.0       4351         5        1         1   \n",
       "98  Super Built Up Area      825.0       4130         2        2         2   \n",
       "\n",
       "    Price_Lakh  \n",
       "0         32.0  \n",
       "1         24.5  \n",
       "2        565.0  \n",
       "3        209.0  \n",
       "4        199.0  \n",
       "..         ...  \n",
       "94        51.1  \n",
       "95        34.0  \n",
       "96        30.6  \n",
       "97        26.8  \n",
       "98        34.1  \n",
       "\n",
       "[99 rows x 12 columns]"
      ]
     },
     "execution_count": 7,
     "metadata": {},
     "output_type": "execute_result"
    }
   ],
   "source": [
    "prop = pd.read_csv('Datasets/Final_Chennai.csv')\n",
    "prop"
   ]
  },
  {
   "attachments": {},
   "cell_type": "markdown",
   "id": "2000ec59",
   "metadata": {},
   "source": [
    "## 3. Data Understanding"
   ]
  },
  {
   "cell_type": "code",
   "execution_count": 8,
   "id": "e3ff6ae7",
   "metadata": {},
   "outputs": [
    {
     "data": {
      "text/plain": [
       "(99, 12)"
      ]
     },
     "execution_count": 8,
     "metadata": {},
     "output_type": "execute_result"
    }
   ],
   "source": [
    "prop.shape"
   ]
  },
  {
   "cell_type": "code",
   "execution_count": 9,
   "id": "72f33c7d",
   "metadata": {},
   "outputs": [
    {
     "name": "stdout",
     "output_type": "stream",
     "text": [
      "<class 'pandas.core.frame.DataFrame'>\n",
      "RangeIndex: 99 entries, 0 to 98\n",
      "Data columns (total 12 columns):\n",
      " #   Column         Non-Null Count  Dtype  \n",
      "---  ------         --------------  -----  \n",
      " 0   Property_Name  99 non-null     object \n",
      " 1   Location       99 non-null     object \n",
      " 2   Region         99 non-null     object \n",
      " 3   Property_Age   99 non-null     object \n",
      " 4   Availability   99 non-null     object \n",
      " 5   Area_Tpye      99 non-null     object \n",
      " 6   Area_SqFt      99 non-null     float64\n",
      " 7   Rate_SqFt      99 non-null     int64  \n",
      " 8   Floor_No       99 non-null     int64  \n",
      " 9   Bedroom        99 non-null     int64  \n",
      " 10  Bathroom       99 non-null     int64  \n",
      " 11  Price_Lakh     99 non-null     float64\n",
      "dtypes: float64(2), int64(4), object(6)\n",
      "memory usage: 9.4+ KB\n"
     ]
    }
   ],
   "source": [
    "prop.info()"
   ]
  },
  {
   "cell_type": "code",
   "execution_count": 10,
   "id": "9fbe273e",
   "metadata": {},
   "outputs": [
    {
     "data": {
      "text/plain": [
       "Property_Name    0\n",
       "Location         0\n",
       "Region           0\n",
       "Property_Age     0\n",
       "Availability     0\n",
       "Area_Tpye        0\n",
       "Area_SqFt        0\n",
       "Rate_SqFt        0\n",
       "Floor_No         0\n",
       "Bedroom          0\n",
       "Bathroom         0\n",
       "Price_Lakh       0\n",
       "dtype: int64"
      ]
     },
     "execution_count": 10,
     "metadata": {},
     "output_type": "execute_result"
    }
   ],
   "source": [
    "prop.isna().sum()"
   ]
  },
  {
   "cell_type": "code",
   "execution_count": 11,
   "id": "7c8116da",
   "metadata": {},
   "outputs": [
    {
     "data": {
      "text/html": [
       "<div>\n",
       "<style scoped>\n",
       "    .dataframe tbody tr th:only-of-type {\n",
       "        vertical-align: middle;\n",
       "    }\n",
       "\n",
       "    .dataframe tbody tr th {\n",
       "        vertical-align: top;\n",
       "    }\n",
       "\n",
       "    .dataframe thead th {\n",
       "        text-align: right;\n",
       "    }\n",
       "</style>\n",
       "<table border=\"1\" class=\"dataframe\">\n",
       "  <thead>\n",
       "    <tr style=\"text-align: right;\">\n",
       "      <th></th>\n",
       "      <th>Area_SqFt</th>\n",
       "      <th>Rate_SqFt</th>\n",
       "      <th>Floor_No</th>\n",
       "      <th>Bedroom</th>\n",
       "      <th>Bathroom</th>\n",
       "      <th>Price_Lakh</th>\n",
       "    </tr>\n",
       "  </thead>\n",
       "  <tbody>\n",
       "    <tr>\n",
       "      <th>count</th>\n",
       "      <td>99.0</td>\n",
       "      <td>99.0</td>\n",
       "      <td>99.0</td>\n",
       "      <td>99.0</td>\n",
       "      <td>99.0</td>\n",
       "      <td>99.0</td>\n",
       "    </tr>\n",
       "    <tr>\n",
       "      <th>mean</th>\n",
       "      <td>880.0</td>\n",
       "      <td>15225.0</td>\n",
       "      <td>8.0</td>\n",
       "      <td>2.0</td>\n",
       "      <td>2.0</td>\n",
       "      <td>130.0</td>\n",
       "    </tr>\n",
       "    <tr>\n",
       "      <th>std</th>\n",
       "      <td>366.0</td>\n",
       "      <td>9143.0</td>\n",
       "      <td>8.0</td>\n",
       "      <td>1.0</td>\n",
       "      <td>1.0</td>\n",
       "      <td>93.0</td>\n",
       "    </tr>\n",
       "    <tr>\n",
       "      <th>min</th>\n",
       "      <td>340.0</td>\n",
       "      <td>3641.0</td>\n",
       "      <td>0.0</td>\n",
       "      <td>1.0</td>\n",
       "      <td>1.0</td>\n",
       "      <td>19.0</td>\n",
       "    </tr>\n",
       "    <tr>\n",
       "      <th>25%</th>\n",
       "      <td>619.0</td>\n",
       "      <td>7837.0</td>\n",
       "      <td>3.0</td>\n",
       "      <td>1.0</td>\n",
       "      <td>2.0</td>\n",
       "      <td>55.0</td>\n",
       "    </tr>\n",
       "    <tr>\n",
       "      <th>50%</th>\n",
       "      <td>825.0</td>\n",
       "      <td>11455.0</td>\n",
       "      <td>5.0</td>\n",
       "      <td>2.0</td>\n",
       "      <td>2.0</td>\n",
       "      <td>110.0</td>\n",
       "    </tr>\n",
       "    <tr>\n",
       "      <th>75%</th>\n",
       "      <td>1108.0</td>\n",
       "      <td>23938.0</td>\n",
       "      <td>10.0</td>\n",
       "      <td>2.0</td>\n",
       "      <td>2.0</td>\n",
       "      <td>180.0</td>\n",
       "    </tr>\n",
       "    <tr>\n",
       "      <th>max</th>\n",
       "      <td>1750.0</td>\n",
       "      <td>38487.0</td>\n",
       "      <td>37.0</td>\n",
       "      <td>4.0</td>\n",
       "      <td>4.0</td>\n",
       "      <td>565.0</td>\n",
       "    </tr>\n",
       "  </tbody>\n",
       "</table>\n",
       "</div>"
      ],
      "text/plain": [
       "       Area_SqFt  Rate_SqFt  Floor_No  Bedroom  Bathroom  Price_Lakh\n",
       "count       99.0       99.0      99.0     99.0      99.0        99.0\n",
       "mean       880.0    15225.0       8.0      2.0       2.0       130.0\n",
       "std        366.0     9143.0       8.0      1.0       1.0        93.0\n",
       "min        340.0     3641.0       0.0      1.0       1.0        19.0\n",
       "25%        619.0     7837.0       3.0      1.0       2.0        55.0\n",
       "50%        825.0    11455.0       5.0      2.0       2.0       110.0\n",
       "75%       1108.0    23938.0      10.0      2.0       2.0       180.0\n",
       "max       1750.0    38487.0      37.0      4.0       4.0       565.0"
      ]
     },
     "execution_count": 11,
     "metadata": {},
     "output_type": "execute_result"
    }
   ],
   "source": [
    "prop.describe().round()"
   ]
  },
  {
   "attachments": {},
   "cell_type": "markdown",
   "id": "c50c4747",
   "metadata": {},
   "source": [
    "## 4. Feature Engineering"
   ]
  },
  {
   "attachments": {},
   "cell_type": "markdown",
   "id": "fcaec645",
   "metadata": {},
   "source": [
    "### 4.1 Drop Unwanted Columns"
   ]
  },
  {
   "cell_type": "code",
   "execution_count": 12,
   "id": "dd2e859c",
   "metadata": {
    "scrolled": false
   },
   "outputs": [
    {
     "data": {
      "text/html": [
       "<div>\n",
       "<style scoped>\n",
       "    .dataframe tbody tr th:only-of-type {\n",
       "        vertical-align: middle;\n",
       "    }\n",
       "\n",
       "    .dataframe tbody tr th {\n",
       "        vertical-align: top;\n",
       "    }\n",
       "\n",
       "    .dataframe thead th {\n",
       "        text-align: right;\n",
       "    }\n",
       "</style>\n",
       "<table border=\"1\" class=\"dataframe\">\n",
       "  <thead>\n",
       "    <tr style=\"text-align: right;\">\n",
       "      <th></th>\n",
       "      <th>Property_Name</th>\n",
       "      <th>Location</th>\n",
       "      <th>Region</th>\n",
       "      <th>Property_Age</th>\n",
       "      <th>Availability</th>\n",
       "      <th>Area_Tpye</th>\n",
       "      <th>Area_SqFt</th>\n",
       "      <th>Rate_SqFt</th>\n",
       "      <th>Floor_No</th>\n",
       "      <th>Bedroom</th>\n",
       "      <th>Bathroom</th>\n",
       "      <th>Price_Lakh</th>\n",
       "    </tr>\n",
       "  </thead>\n",
       "  <tbody>\n",
       "    <tr>\n",
       "      <th>0</th>\n",
       "      <td>Om Sai Heights 2</td>\n",
       "      <td>Chennai</td>\n",
       "      <td>Chennai</td>\n",
       "      <td>0 to 1 Year</td>\n",
       "      <td>Ready To Move</td>\n",
       "      <td>Super Built Up Area</td>\n",
       "      <td>600.0</td>\n",
       "      <td>5333</td>\n",
       "      <td>4</td>\n",
       "      <td>1</td>\n",
       "      <td>2</td>\n",
       "      <td>32.0</td>\n",
       "    </tr>\n",
       "    <tr>\n",
       "      <th>1</th>\n",
       "      <td>Shree Manibhadra Heights</td>\n",
       "      <td>Chennai</td>\n",
       "      <td>Chennai</td>\n",
       "      <td>0 to 1 Year</td>\n",
       "      <td>Ready To Move</td>\n",
       "      <td>Carpet Area</td>\n",
       "      <td>400.0</td>\n",
       "      <td>6125</td>\n",
       "      <td>8</td>\n",
       "      <td>1</td>\n",
       "      <td>2</td>\n",
       "      <td>24.5</td>\n",
       "    </tr>\n",
       "    <tr>\n",
       "      <th>2</th>\n",
       "      <td>Peninsula Celestia Spaces</td>\n",
       "      <td>Chennai</td>\n",
       "      <td>Chennai</td>\n",
       "      <td>0 to 1 Year</td>\n",
       "      <td>Ready To Move</td>\n",
       "      <td>Carpet Area</td>\n",
       "      <td>1468.0</td>\n",
       "      <td>38487</td>\n",
       "      <td>10</td>\n",
       "      <td>3</td>\n",
       "      <td>3</td>\n",
       "      <td>565.0</td>\n",
       "    </tr>\n",
       "    <tr>\n",
       "      <th>3</th>\n",
       "      <td>Unnamed Property</td>\n",
       "      <td>Chennai</td>\n",
       "      <td>Chennai</td>\n",
       "      <td>0 to 1 Year</td>\n",
       "      <td>Ready To Move</td>\n",
       "      <td>Carpet Area</td>\n",
       "      <td>692.0</td>\n",
       "      <td>30202</td>\n",
       "      <td>10</td>\n",
       "      <td>2</td>\n",
       "      <td>2</td>\n",
       "      <td>209.0</td>\n",
       "    </tr>\n",
       "    <tr>\n",
       "      <th>4</th>\n",
       "      <td>Unnamed Property</td>\n",
       "      <td>Chennai</td>\n",
       "      <td>Chennai</td>\n",
       "      <td>0 to 1 Year</td>\n",
       "      <td>Ready To Move</td>\n",
       "      <td>Carpet Area</td>\n",
       "      <td>671.0</td>\n",
       "      <td>29657</td>\n",
       "      <td>10</td>\n",
       "      <td>2</td>\n",
       "      <td>2</td>\n",
       "      <td>199.0</td>\n",
       "    </tr>\n",
       "  </tbody>\n",
       "</table>\n",
       "</div>"
      ],
      "text/plain": [
       "                Property_Name Location   Region Property_Age   Availability  \\\n",
       "0           Om Sai Heights 2   Chennai  Chennai  0 to 1 Year  Ready To Move   \n",
       "1   Shree Manibhadra Heights   Chennai  Chennai  0 to 1 Year  Ready To Move   \n",
       "2  Peninsula Celestia Spaces   Chennai  Chennai  0 to 1 Year  Ready To Move   \n",
       "3            Unnamed Property  Chennai  Chennai  0 to 1 Year  Ready To Move   \n",
       "4            Unnamed Property  Chennai  Chennai  0 to 1 Year  Ready To Move   \n",
       "\n",
       "             Area_Tpye  Area_SqFt  Rate_SqFt  Floor_No  Bedroom  Bathroom  \\\n",
       "0  Super Built Up Area      600.0       5333         4        1         2   \n",
       "1          Carpet Area      400.0       6125         8        1         2   \n",
       "2          Carpet Area     1468.0      38487        10        3         3   \n",
       "3          Carpet Area      692.0      30202        10        2         2   \n",
       "4          Carpet Area      671.0      29657        10        2         2   \n",
       "\n",
       "   Price_Lakh  \n",
       "0        32.0  \n",
       "1        24.5  \n",
       "2       565.0  \n",
       "3       209.0  \n",
       "4       199.0  "
      ]
     },
     "execution_count": 12,
     "metadata": {},
     "output_type": "execute_result"
    }
   ],
   "source": [
    "prop.head()"
   ]
  },
  {
   "cell_type": "code",
   "execution_count": 13,
   "id": "8b61ee95",
   "metadata": {},
   "outputs": [
    {
     "name": "stdout",
     "output_type": "stream",
     "text": [
      "Shape of data : (99, 9)\n"
     ]
    }
   ],
   "source": [
    "prop.drop(columns=['Property_Name', 'Location','Availability'], inplace =  True)\n",
    "print('Shape of data :', prop.shape)"
   ]
  },
  {
   "attachments": {},
   "cell_type": "markdown",
   "id": "3ccc3582",
   "metadata": {},
   "source": [
    "### 4.2 Label Encoding for Categorical Columns"
   ]
  },
  {
   "cell_type": "code",
   "execution_count": 14,
   "id": "48b968cc",
   "metadata": {},
   "outputs": [],
   "source": [
    "le = LabelEncoder()"
   ]
  },
  {
   "cell_type": "code",
   "execution_count": 15,
   "id": "92c3169a",
   "metadata": {},
   "outputs": [],
   "source": [
    "for column in prop.describe(include='object').columns:\n",
    "    prop[column] = le.fit_transform(prop[column])"
   ]
  },
  {
   "cell_type": "code",
   "execution_count": 16,
   "id": "ac7950c8",
   "metadata": {},
   "outputs": [
    {
     "data": {
      "text/html": [
       "<div>\n",
       "<style scoped>\n",
       "    .dataframe tbody tr th:only-of-type {\n",
       "        vertical-align: middle;\n",
       "    }\n",
       "\n",
       "    .dataframe tbody tr th {\n",
       "        vertical-align: top;\n",
       "    }\n",
       "\n",
       "    .dataframe thead th {\n",
       "        text-align: right;\n",
       "    }\n",
       "</style>\n",
       "<table border=\"1\" class=\"dataframe\">\n",
       "  <thead>\n",
       "    <tr style=\"text-align: right;\">\n",
       "      <th></th>\n",
       "      <th>count</th>\n",
       "      <th>mean</th>\n",
       "      <th>std</th>\n",
       "      <th>min</th>\n",
       "      <th>25%</th>\n",
       "      <th>50%</th>\n",
       "      <th>75%</th>\n",
       "      <th>max</th>\n",
       "    </tr>\n",
       "  </thead>\n",
       "  <tbody>\n",
       "    <tr>\n",
       "      <th>Region</th>\n",
       "      <td>99.0</td>\n",
       "      <td>0.00</td>\n",
       "      <td>0.00</td>\n",
       "      <td>0.0</td>\n",
       "      <td>0.0</td>\n",
       "      <td>0.0</td>\n",
       "      <td>0.0</td>\n",
       "      <td>0.0</td>\n",
       "    </tr>\n",
       "    <tr>\n",
       "      <th>Property_Age</th>\n",
       "      <td>99.0</td>\n",
       "      <td>1.23</td>\n",
       "      <td>1.12</td>\n",
       "      <td>0.0</td>\n",
       "      <td>0.0</td>\n",
       "      <td>1.0</td>\n",
       "      <td>2.0</td>\n",
       "      <td>3.0</td>\n",
       "    </tr>\n",
       "    <tr>\n",
       "      <th>Area_Tpye</th>\n",
       "      <td>99.0</td>\n",
       "      <td>1.41</td>\n",
       "      <td>0.65</td>\n",
       "      <td>0.0</td>\n",
       "      <td>1.0</td>\n",
       "      <td>2.0</td>\n",
       "      <td>2.0</td>\n",
       "      <td>2.0</td>\n",
       "    </tr>\n",
       "    <tr>\n",
       "      <th>Area_SqFt</th>\n",
       "      <td>99.0</td>\n",
       "      <td>879.67</td>\n",
       "      <td>365.90</td>\n",
       "      <td>340.0</td>\n",
       "      <td>619.0</td>\n",
       "      <td>825.0</td>\n",
       "      <td>1108.0</td>\n",
       "      <td>1750.0</td>\n",
       "    </tr>\n",
       "    <tr>\n",
       "      <th>Rate_SqFt</th>\n",
       "      <td>99.0</td>\n",
       "      <td>15224.81</td>\n",
       "      <td>9142.92</td>\n",
       "      <td>3641.0</td>\n",
       "      <td>7837.0</td>\n",
       "      <td>11455.0</td>\n",
       "      <td>23938.5</td>\n",
       "      <td>38487.0</td>\n",
       "    </tr>\n",
       "    <tr>\n",
       "      <th>Floor_No</th>\n",
       "      <td>99.0</td>\n",
       "      <td>8.14</td>\n",
       "      <td>8.32</td>\n",
       "      <td>0.0</td>\n",
       "      <td>3.0</td>\n",
       "      <td>5.0</td>\n",
       "      <td>10.0</td>\n",
       "      <td>37.0</td>\n",
       "    </tr>\n",
       "    <tr>\n",
       "      <th>Bedroom</th>\n",
       "      <td>99.0</td>\n",
       "      <td>1.91</td>\n",
       "      <td>0.73</td>\n",
       "      <td>1.0</td>\n",
       "      <td>1.0</td>\n",
       "      <td>2.0</td>\n",
       "      <td>2.0</td>\n",
       "      <td>4.0</td>\n",
       "    </tr>\n",
       "    <tr>\n",
       "      <th>Bathroom</th>\n",
       "      <td>99.0</td>\n",
       "      <td>2.01</td>\n",
       "      <td>0.61</td>\n",
       "      <td>1.0</td>\n",
       "      <td>2.0</td>\n",
       "      <td>2.0</td>\n",
       "      <td>2.0</td>\n",
       "      <td>4.0</td>\n",
       "    </tr>\n",
       "    <tr>\n",
       "      <th>Price_Lakh</th>\n",
       "      <td>99.0</td>\n",
       "      <td>129.58</td>\n",
       "      <td>93.21</td>\n",
       "      <td>19.0</td>\n",
       "      <td>55.0</td>\n",
       "      <td>110.0</td>\n",
       "      <td>180.0</td>\n",
       "      <td>565.0</td>\n",
       "    </tr>\n",
       "  </tbody>\n",
       "</table>\n",
       "</div>"
      ],
      "text/plain": [
       "              count      mean      std     min     25%      50%      75%  \\\n",
       "Region         99.0      0.00     0.00     0.0     0.0      0.0      0.0   \n",
       "Property_Age   99.0      1.23     1.12     0.0     0.0      1.0      2.0   \n",
       "Area_Tpye      99.0      1.41     0.65     0.0     1.0      2.0      2.0   \n",
       "Area_SqFt      99.0    879.67   365.90   340.0   619.0    825.0   1108.0   \n",
       "Rate_SqFt      99.0  15224.81  9142.92  3641.0  7837.0  11455.0  23938.5   \n",
       "Floor_No       99.0      8.14     8.32     0.0     3.0      5.0     10.0   \n",
       "Bedroom        99.0      1.91     0.73     1.0     1.0      2.0      2.0   \n",
       "Bathroom       99.0      2.01     0.61     1.0     2.0      2.0      2.0   \n",
       "Price_Lakh     99.0    129.58    93.21    19.0    55.0    110.0    180.0   \n",
       "\n",
       "                  max  \n",
       "Region            0.0  \n",
       "Property_Age      3.0  \n",
       "Area_Tpye         2.0  \n",
       "Area_SqFt      1750.0  \n",
       "Rate_SqFt     38487.0  \n",
       "Floor_No         37.0  \n",
       "Bedroom           4.0  \n",
       "Bathroom          4.0  \n",
       "Price_Lakh      565.0  "
      ]
     },
     "execution_count": 16,
     "metadata": {},
     "output_type": "execute_result"
    }
   ],
   "source": [
    "prop.describe().round(2).T"
   ]
  },
  {
   "cell_type": "code",
   "execution_count": 17,
   "id": "d4239485",
   "metadata": {},
   "outputs": [
    {
     "data": {
      "text/html": [
       "<div>\n",
       "<style scoped>\n",
       "    .dataframe tbody tr th:only-of-type {\n",
       "        vertical-align: middle;\n",
       "    }\n",
       "\n",
       "    .dataframe tbody tr th {\n",
       "        vertical-align: top;\n",
       "    }\n",
       "\n",
       "    .dataframe thead th {\n",
       "        text-align: right;\n",
       "    }\n",
       "</style>\n",
       "<table border=\"1\" class=\"dataframe\">\n",
       "  <thead>\n",
       "    <tr style=\"text-align: right;\">\n",
       "      <th></th>\n",
       "      <th>Region</th>\n",
       "      <th>Property_Age</th>\n",
       "      <th>Area_Tpye</th>\n",
       "      <th>Area_SqFt</th>\n",
       "      <th>Rate_SqFt</th>\n",
       "      <th>Floor_No</th>\n",
       "      <th>Bedroom</th>\n",
       "      <th>Bathroom</th>\n",
       "      <th>Price_Lakh</th>\n",
       "    </tr>\n",
       "  </thead>\n",
       "  <tbody>\n",
       "    <tr>\n",
       "      <th>0</th>\n",
       "      <td>0</td>\n",
       "      <td>0</td>\n",
       "      <td>2</td>\n",
       "      <td>600.0</td>\n",
       "      <td>5333</td>\n",
       "      <td>4</td>\n",
       "      <td>1</td>\n",
       "      <td>2</td>\n",
       "      <td>32.0</td>\n",
       "    </tr>\n",
       "    <tr>\n",
       "      <th>1</th>\n",
       "      <td>0</td>\n",
       "      <td>0</td>\n",
       "      <td>1</td>\n",
       "      <td>400.0</td>\n",
       "      <td>6125</td>\n",
       "      <td>8</td>\n",
       "      <td>1</td>\n",
       "      <td>2</td>\n",
       "      <td>24.5</td>\n",
       "    </tr>\n",
       "    <tr>\n",
       "      <th>2</th>\n",
       "      <td>0</td>\n",
       "      <td>0</td>\n",
       "      <td>1</td>\n",
       "      <td>1468.0</td>\n",
       "      <td>38487</td>\n",
       "      <td>10</td>\n",
       "      <td>3</td>\n",
       "      <td>3</td>\n",
       "      <td>565.0</td>\n",
       "    </tr>\n",
       "    <tr>\n",
       "      <th>3</th>\n",
       "      <td>0</td>\n",
       "      <td>0</td>\n",
       "      <td>1</td>\n",
       "      <td>692.0</td>\n",
       "      <td>30202</td>\n",
       "      <td>10</td>\n",
       "      <td>2</td>\n",
       "      <td>2</td>\n",
       "      <td>209.0</td>\n",
       "    </tr>\n",
       "    <tr>\n",
       "      <th>4</th>\n",
       "      <td>0</td>\n",
       "      <td>0</td>\n",
       "      <td>1</td>\n",
       "      <td>671.0</td>\n",
       "      <td>29657</td>\n",
       "      <td>10</td>\n",
       "      <td>2</td>\n",
       "      <td>2</td>\n",
       "      <td>199.0</td>\n",
       "    </tr>\n",
       "    <tr>\n",
       "      <th>...</th>\n",
       "      <td>...</td>\n",
       "      <td>...</td>\n",
       "      <td>...</td>\n",
       "      <td>...</td>\n",
       "      <td>...</td>\n",
       "      <td>...</td>\n",
       "      <td>...</td>\n",
       "      <td>...</td>\n",
       "      <td>...</td>\n",
       "    </tr>\n",
       "    <tr>\n",
       "      <th>94</th>\n",
       "      <td>0</td>\n",
       "      <td>1</td>\n",
       "      <td>2</td>\n",
       "      <td>955.0</td>\n",
       "      <td>5350</td>\n",
       "      <td>7</td>\n",
       "      <td>2</td>\n",
       "      <td>2</td>\n",
       "      <td>51.1</td>\n",
       "    </tr>\n",
       "    <tr>\n",
       "      <th>95</th>\n",
       "      <td>0</td>\n",
       "      <td>1</td>\n",
       "      <td>2</td>\n",
       "      <td>825.0</td>\n",
       "      <td>4127</td>\n",
       "      <td>3</td>\n",
       "      <td>2</td>\n",
       "      <td>2</td>\n",
       "      <td>34.0</td>\n",
       "    </tr>\n",
       "    <tr>\n",
       "      <th>96</th>\n",
       "      <td>0</td>\n",
       "      <td>1</td>\n",
       "      <td>2</td>\n",
       "      <td>630.0</td>\n",
       "      <td>4857</td>\n",
       "      <td>2</td>\n",
       "      <td>1</td>\n",
       "      <td>2</td>\n",
       "      <td>30.6</td>\n",
       "    </tr>\n",
       "    <tr>\n",
       "      <th>97</th>\n",
       "      <td>0</td>\n",
       "      <td>1</td>\n",
       "      <td>2</td>\n",
       "      <td>615.0</td>\n",
       "      <td>4351</td>\n",
       "      <td>5</td>\n",
       "      <td>1</td>\n",
       "      <td>1</td>\n",
       "      <td>26.8</td>\n",
       "    </tr>\n",
       "    <tr>\n",
       "      <th>98</th>\n",
       "      <td>0</td>\n",
       "      <td>1</td>\n",
       "      <td>2</td>\n",
       "      <td>825.0</td>\n",
       "      <td>4130</td>\n",
       "      <td>2</td>\n",
       "      <td>2</td>\n",
       "      <td>2</td>\n",
       "      <td>34.1</td>\n",
       "    </tr>\n",
       "  </tbody>\n",
       "</table>\n",
       "<p>99 rows × 9 columns</p>\n",
       "</div>"
      ],
      "text/plain": [
       "    Region  Property_Age  Area_Tpye  Area_SqFt  Rate_SqFt  Floor_No  Bedroom  \\\n",
       "0        0             0          2      600.0       5333         4        1   \n",
       "1        0             0          1      400.0       6125         8        1   \n",
       "2        0             0          1     1468.0      38487        10        3   \n",
       "3        0             0          1      692.0      30202        10        2   \n",
       "4        0             0          1      671.0      29657        10        2   \n",
       "..     ...           ...        ...        ...        ...       ...      ...   \n",
       "94       0             1          2      955.0       5350         7        2   \n",
       "95       0             1          2      825.0       4127         3        2   \n",
       "96       0             1          2      630.0       4857         2        1   \n",
       "97       0             1          2      615.0       4351         5        1   \n",
       "98       0             1          2      825.0       4130         2        2   \n",
       "\n",
       "    Bathroom  Price_Lakh  \n",
       "0          2        32.0  \n",
       "1          2        24.5  \n",
       "2          3       565.0  \n",
       "3          2       209.0  \n",
       "4          2       199.0  \n",
       "..       ...         ...  \n",
       "94         2        51.1  \n",
       "95         2        34.0  \n",
       "96         2        30.6  \n",
       "97         1        26.8  \n",
       "98         2        34.1  \n",
       "\n",
       "[99 rows x 9 columns]"
      ]
     },
     "execution_count": 17,
     "metadata": {},
     "output_type": "execute_result"
    }
   ],
   "source": [
    "prop"
   ]
  },
  {
   "cell_type": "code",
   "execution_count": 18,
   "id": "98e0bfba",
   "metadata": {},
   "outputs": [
    {
     "name": "stdout",
     "output_type": "stream",
     "text": [
      "<class 'pandas.core.frame.DataFrame'>\n",
      "RangeIndex: 99 entries, 0 to 98\n",
      "Data columns (total 9 columns):\n",
      " #   Column        Non-Null Count  Dtype  \n",
      "---  ------        --------------  -----  \n",
      " 0   Region        99 non-null     int32  \n",
      " 1   Property_Age  99 non-null     int32  \n",
      " 2   Area_Tpye     99 non-null     int32  \n",
      " 3   Area_SqFt     99 non-null     float64\n",
      " 4   Rate_SqFt     99 non-null     int64  \n",
      " 5   Floor_No      99 non-null     int64  \n",
      " 6   Bedroom       99 non-null     int64  \n",
      " 7   Bathroom      99 non-null     int64  \n",
      " 8   Price_Lakh    99 non-null     float64\n",
      "dtypes: float64(2), int32(3), int64(4)\n",
      "memory usage: 5.9 KB\n"
     ]
    }
   ],
   "source": [
    "prop.info()"
   ]
  },
  {
   "attachments": {},
   "cell_type": "markdown",
   "id": "6cdc63ac",
   "metadata": {},
   "source": [
    "### 4.3 Looking for Minimum & Maximum"
   ]
  },
  {
   "cell_type": "code",
   "execution_count": 19,
   "id": "0d5ecd17",
   "metadata": {},
   "outputs": [
    {
     "name": "stdout",
     "output_type": "stream",
     "text": [
      "Region Min value : 0 Max value : 0\n",
      "Property_Age Min value : 0 Max value : 3\n",
      "Area_Tpye Min value : 0 Max value : 2\n",
      "Area_SqFt Min value : 340.0 Max value : 1750.0\n",
      "Rate_SqFt Min value : 3641 Max value : 38487\n",
      "Floor_No Min value : 0 Max value : 37\n",
      "Bedroom Min value : 1 Max value : 4\n",
      "Bathroom Min value : 1 Max value : 4\n",
      "Price_Lakh Min value : 19.0 Max value : 565.0\n"
     ]
    }
   ],
   "source": [
    "for i in prop.columns:  \n",
    "    print(i,'Min value :', prop[i].min(),'Max value :', prop[i].max())"
   ]
  },
  {
   "attachments": {},
   "cell_type": "markdown",
   "id": "7124fb62",
   "metadata": {},
   "source": [
    "### 4.4 Correlation Heatmap"
   ]
  },
  {
   "cell_type": "code",
   "execution_count": 20,
   "id": "c8ddb66b",
   "metadata": {},
   "outputs": [
    {
     "data": {
      "image/png": "[encoded data removed]",
      "text/plain": [
       "<Figure size 900x800 with 2 Axes>"
      ]
     },
     "metadata": {},
     "output_type": "display_data"
    }
   ],
   "source": [
    "fig = plt.figure( figsize =(9,8))\n",
    "rcParams = {'xtick.labelsize':'14','ytick.labelsize':'14','axes.labelsize':'16'}\n",
    "sns.heatmap(prop.corr(),annot = True, linewidths=.5, cbar_kws={\"shrink\": .5},fmt='.2f', cmap='coolwarm')\n",
    "fig.suptitle('Heatmap for Chennai city',fontsize=18, fontweight=\"bold\")\n",
    "pylab.rcParams.update(rcParams)\n",
    "fig.tight_layout()\n",
    "plt.show()\n",
    "\n",
    "fig.savefig('Heatmap_Encoding', dpi = 250)"
   ]
  },
  {
   "attachments": {},
   "cell_type": "markdown",
   "id": "4ef19cf0",
   "metadata": {},
   "source": [
    "## 5. Model Building"
   ]
  },
  {
   "cell_type": "code",
   "execution_count": 21,
   "id": "e1063848",
   "metadata": {},
   "outputs": [
    {
     "data": {
      "text/html": [
       "<div>\n",
       "<style scoped>\n",
       "    .dataframe tbody tr th:only-of-type {\n",
       "        vertical-align: middle;\n",
       "    }\n",
       "\n",
       "    .dataframe tbody tr th {\n",
       "        vertical-align: top;\n",
       "    }\n",
       "\n",
       "    .dataframe thead th {\n",
       "        text-align: right;\n",
       "    }\n",
       "</style>\n",
       "<table border=\"1\" class=\"dataframe\">\n",
       "  <thead>\n",
       "    <tr style=\"text-align: right;\">\n",
       "      <th></th>\n",
       "      <th>Region</th>\n",
       "      <th>Property_Age</th>\n",
       "      <th>Area_Tpye</th>\n",
       "      <th>Area_SqFt</th>\n",
       "      <th>Rate_SqFt</th>\n",
       "      <th>Floor_No</th>\n",
       "      <th>Bedroom</th>\n",
       "      <th>Bathroom</th>\n",
       "      <th>Price_Lakh</th>\n",
       "    </tr>\n",
       "  </thead>\n",
       "  <tbody>\n",
       "    <tr>\n",
       "      <th>0</th>\n",
       "      <td>0</td>\n",
       "      <td>0</td>\n",
       "      <td>2</td>\n",
       "      <td>600.0</td>\n",
       "      <td>5333</td>\n",
       "      <td>4</td>\n",
       "      <td>1</td>\n",
       "      <td>2</td>\n",
       "      <td>32.0</td>\n",
       "    </tr>\n",
       "    <tr>\n",
       "      <th>1</th>\n",
       "      <td>0</td>\n",
       "      <td>0</td>\n",
       "      <td>1</td>\n",
       "      <td>400.0</td>\n",
       "      <td>6125</td>\n",
       "      <td>8</td>\n",
       "      <td>1</td>\n",
       "      <td>2</td>\n",
       "      <td>24.5</td>\n",
       "    </tr>\n",
       "    <tr>\n",
       "      <th>2</th>\n",
       "      <td>0</td>\n",
       "      <td>0</td>\n",
       "      <td>1</td>\n",
       "      <td>1468.0</td>\n",
       "      <td>38487</td>\n",
       "      <td>10</td>\n",
       "      <td>3</td>\n",
       "      <td>3</td>\n",
       "      <td>565.0</td>\n",
       "    </tr>\n",
       "    <tr>\n",
       "      <th>3</th>\n",
       "      <td>0</td>\n",
       "      <td>0</td>\n",
       "      <td>1</td>\n",
       "      <td>692.0</td>\n",
       "      <td>30202</td>\n",
       "      <td>10</td>\n",
       "      <td>2</td>\n",
       "      <td>2</td>\n",
       "      <td>209.0</td>\n",
       "    </tr>\n",
       "    <tr>\n",
       "      <th>4</th>\n",
       "      <td>0</td>\n",
       "      <td>0</td>\n",
       "      <td>1</td>\n",
       "      <td>671.0</td>\n",
       "      <td>29657</td>\n",
       "      <td>10</td>\n",
       "      <td>2</td>\n",
       "      <td>2</td>\n",
       "      <td>199.0</td>\n",
       "    </tr>\n",
       "  </tbody>\n",
       "</table>\n",
       "</div>"
      ],
      "text/plain": [
       "   Region  Property_Age  Area_Tpye  Area_SqFt  Rate_SqFt  Floor_No  Bedroom  \\\n",
       "0       0             0          2      600.0       5333         4        1   \n",
       "1       0             0          1      400.0       6125         8        1   \n",
       "2       0             0          1     1468.0      38487        10        3   \n",
       "3       0             0          1      692.0      30202        10        2   \n",
       "4       0             0          1      671.0      29657        10        2   \n",
       "\n",
       "   Bathroom  Price_Lakh  \n",
       "0         2        32.0  \n",
       "1         2        24.5  \n",
       "2         3       565.0  \n",
       "3         2       209.0  \n",
       "4         2       199.0  "
      ]
     },
     "execution_count": 21,
     "metadata": {},
     "output_type": "execute_result"
    }
   ],
   "source": [
    "prop.head()"
   ]
  },
  {
   "attachments": {},
   "cell_type": "markdown",
   "id": "f5ecf5cf",
   "metadata": {},
   "source": [
    "### 5.1 Train Test Split"
   ]
  },
  {
   "cell_type": "code",
   "execution_count": 22,
   "id": "891a501c",
   "metadata": {
    "scrolled": false
   },
   "outputs": [],
   "source": [
    "X =  prop.drop('Price_Lakh', axis = 1)\n",
    "y =  prop['Price_Lakh']"
   ]
  },
  {
   "cell_type": "code",
   "execution_count": 23,
   "id": "2197ea54",
   "metadata": {},
   "outputs": [],
   "source": [
    "X_train, X_test, y_train, y_test = train_test_split(X, y, test_size= 0.20, random_state = 12)"
   ]
  },
  {
   "cell_type": "code",
   "execution_count": 24,
   "id": "4f0e4534",
   "metadata": {},
   "outputs": [
    {
     "name": "stdout",
     "output_type": "stream",
     "text": [
      "(79, 8) (20, 8)\n",
      "(79,)\n"
     ]
    }
   ],
   "source": [
    "print(X_train.shape, X_test.shape)\n",
    "print(y_train.shape)"
   ]
  },
  {
   "attachments": {},
   "cell_type": "markdown",
   "id": "9feafe60",
   "metadata": {},
   "source": [
    "### 5.2 Linear Regression"
   ]
  },
  {
   "cell_type": "code",
   "execution_count": 25,
   "id": "bcf26aef",
   "metadata": {},
   "outputs": [
    {
     "name": "stdout",
     "output_type": "stream",
     "text": [
      "Training Accuracy =  0.9222236313047801\n",
      "Test Accuracy     =  0.8192804166233912\n"
     ]
    }
   ],
   "source": [
    "from sklearn.linear_model import LinearRegression\n",
    "\n",
    "linear = LinearRegression()\n",
    "linear.fit(X_train, y_train)\n",
    "\n",
    "print(\"Training Accuracy = \", linear.score(X_train, y_train))\n",
    "print(\"Test Accuracy     = \", linear.score(X_test, y_test))"
   ]
  },
  {
   "attachments": {},
   "cell_type": "markdown",
   "id": "c1f5229e",
   "metadata": {},
   "source": [
    "### 5.3 Decision Tree Regressor"
   ]
  },
  {
   "cell_type": "code",
   "execution_count": 26,
   "id": "b74822b0",
   "metadata": {},
   "outputs": [
    {
     "name": "stdout",
     "output_type": "stream",
     "text": [
      "Training Accuracy =  1.0\n",
      "Test Accuracy     =  0.6428733478288503\n"
     ]
    }
   ],
   "source": [
    "from sklearn.tree import DecisionTreeRegressor\n",
    "\n",
    "dt = DecisionTreeRegressor(min_samples_split=2)\n",
    "dt.fit(X_train, y_train)\n",
    "\n",
    "print(\"Training Accuracy = \", dt.score(X_train, y_train))\n",
    "print(\"Test Accuracy     = \", dt.score(X_test, y_test))"
   ]
  },
  {
   "attachments": {},
   "cell_type": "markdown",
   "id": "efb5f9f4",
   "metadata": {},
   "source": [
    "### 5.4 Random Forest Regressor"
   ]
  },
  {
   "cell_type": "code",
   "execution_count": 27,
   "id": "4e9b0cf3",
   "metadata": {
    "scrolled": true
   },
   "outputs": [
    {
     "name": "stdout",
     "output_type": "stream",
     "text": [
      "Training Accuracy =  0.9785981458114107\n",
      "Test Accuracy     =  0.8208707555813752\n"
     ]
    }
   ],
   "source": [
    "from sklearn.ensemble import RandomForestRegressor\n",
    "\n",
    "rf = RandomForestRegressor(n_estimators = 1000, max_depth=5, random_state = 12)\n",
    "rf.fit(X_train, y_train)\n",
    "\n",
    "print(\"Training Accuracy = \", rf.score(X_train, y_train))\n",
    "print(\"Test Accuracy     = \", rf.score(X_test, y_test))"
   ]
  },
  {
   "attachments": {},
   "cell_type": "markdown",
   "id": "2fa261c7",
   "metadata": {},
   "source": [
    "## Obeservaion :\n",
    "### 1. We select the final model - Random Forest.\n",
    "### 2. We got 95.79 % Model Accuracy."
   ]
  },
  {
   "attachments": {},
   "cell_type": "markdown",
   "id": "4c0d4a4b",
   "metadata": {},
   "source": [
    "## 6. Final Model Evaluation"
   ]
  },
  {
   "cell_type": "code",
   "execution_count": 28,
   "id": "2d67f589",
   "metadata": {},
   "outputs": [],
   "source": [
    "def evaluate(model, test_features, test_labels):\n",
    "    predictions = model.predict(test_features)\n",
    "    errors = abs(predictions - test_labels)\n",
    "    accuracy = model.score(test_features, test_labels)\n",
    "\n",
    "    print('Average Error  = {:0.4f} degrees'.format(np.mean(errors)))\n",
    "    print('Model Accuracy = {:0.4f} %'.format(accuracy))"
   ]
  },
  {
   "cell_type": "code",
   "execution_count": 29,
   "id": "a955ad32",
   "metadata": {},
   "outputs": [
    {
     "name": "stdout",
     "output_type": "stream",
     "text": [
      "Average Error  = 8.0978 degrees\n",
      "Model Accuracy = 0.9786 %\n"
     ]
    }
   ],
   "source": [
    "evaluate(rf, X_train, y_train)"
   ]
  },
  {
   "cell_type": "code",
   "execution_count": 30,
   "id": "37494896",
   "metadata": {},
   "outputs": [
    {
     "name": "stdout",
     "output_type": "stream",
     "text": [
      "Average Error  = 20.4190 degrees\n",
      "Model Accuracy = 0.8209 %\n"
     ]
    }
   ],
   "source": [
    "evaluate(rf, X_test, y_test)"
   ]
  },
  {
   "attachments": {},
   "cell_type": "markdown",
   "id": "106e432a",
   "metadata": {},
   "source": [
    "### 6.1 Visualizing Results"
   ]
  },
  {
   "cell_type": "code",
   "execution_count": 31,
   "id": "09bb93ec",
   "metadata": {},
   "outputs": [],
   "source": [
    "pred = rf.predict(X_test)"
   ]
  },
  {
   "cell_type": "code",
   "execution_count": 32,
   "id": "6db9592b",
   "metadata": {},
   "outputs": [
    {
     "data": {
      "image/png": "[encoded data removed]",
      "text/plain": [
       "<Figure size 800x700 with 1 Axes>"
      ]
     },
     "metadata": {},
     "output_type": "display_data"
    }
   ],
   "source": [
    "fig = plt.figure(figsize=(8,7))\n",
    "\n",
    "sns.scatterplot(x=y_test, y=pred)\n",
    "fig.suptitle('Prediction using Random Forest for Chennai', fontsize= 18 , fontweight='bold')\n",
    "plt.xlabel(\"Actual\")\n",
    "plt.ylabel(\"Prediction\")\n",
    "pylab.rcParams.update(rcParams)\n",
    "fig.tight_layout()\n",
    "fig.subplots_adjust(top=0.92)\n",
    "plt.show()\n",
    "\n",
    "#fig.savefig('Prediction_Polynomial', dpi = 500)"
   ]
  },
  {
   "attachments": {},
   "cell_type": "markdown",
   "id": "37ff0f34",
   "metadata": {},
   "source": [
    "## 7. Model Deployement"
   ]
  },
  {
   "cell_type": "code",
   "execution_count": 33,
   "id": "187f0fc4",
   "metadata": {},
   "outputs": [],
   "source": [
    "from pickle import dump"
   ]
  },
  {
   "cell_type": "code",
   "execution_count": 34,
   "id": "ffd19f0c",
   "metadata": {},
   "outputs": [],
   "source": [
    "dump(rf, open('regression_model.pkl', 'wb'))"
   ]
  },
  {
   "attachments": {},
   "cell_type": "markdown",
   "id": "ac91d2e6",
   "metadata": {},
   "source": [
    "# The End !!!"
   ]
  }
 ],
 "metadata": {
  "kernelspec": {
   "display_name": "Python 3 (ipykernel)",
   "language": "python",
   "name": "python3"
  },
  "language_info": {
   "codemirror_mode": {
    "name": "ipython",
    "version": 3
   },
   "file_extension": ".py",
   "mimetype": "text/x-python",
   "name": "python",
   "nbconvert_exporter": "python",
   "pygments_lexer": "ipython3",
   "version": "3.11.0"
  }
 },
 "nbformat": 4,
 "nbformat_minor": 5
}
